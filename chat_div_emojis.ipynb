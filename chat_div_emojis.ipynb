{
 "cells": [
  {
   "cell_type": "markdown",
   "metadata": {},
   "source": [
    "This program counts how big portions of your chats are emojis (tested only on whatsapp - other chat apps need few tweaks to work)"
   ]
  },
  {
   "cell_type": "code",
   "execution_count": 1,
   "metadata": {},
   "outputs": [],
   "source": [
    "def main(line):\n",
    "    message = line.split(':', 2)\n",
    "    if len(message) >= 2:\n",
    "        if message[1][5] == 'P': ## change it to the first character of person's name\n",
    "            clean_msg = message[2].strip()\n",
    "            if clean_msg != '<Media omitted>':\n",
    "                znaki = []\n",
    "                emoji = []            \n",
    "                znaki += findall('[AĄBCĆDEĘFGHIJKLŁMNŃOÓPQRSŚTUVWXYZŹŻ]', clean_msg.upper().replace(' ', ''))\n",
    "\n",
    "                emoji += findall('[^AĄBCĆDEĘFGHIJKLŁMNŃOÓPQRSŚTUVWXYZŹŻ\\ufe0f]', clean_msg.upper().replace(' ', ''))\n",
    "                return [len(znaki), len(emoji)]\n",
    "        return [0, 0]\n",
    "    return [0,0]\n",
    "            "
   ]
  },
  {
   "cell_type": "code",
   "execution_count": 2,
   "metadata": {},
   "outputs": [
    {
     "name": "stdout",
     "output_type": "stream",
     "text": [
      "0.16216216216216217\n",
      "0.133505737837401\n",
      "0.1357312521208008\n",
      "0.13848018002423404\n",
      "0.1283679753656659\n",
      "0.13416815742397137\n",
      "0.13507143200731156\n",
      "0.1350210970464135\n",
      "0.13995572987456797\n",
      "0.16692907619640437\n",
      "0.1670449553375311\n",
      "0.16562575480487216\n",
      "0.16555322262518293\n",
      "0.16514356464831084\n",
      "0.16127385111529158\n",
      "0.16429249762583095\n",
      "0.1645977011494253\n",
      "0.16186751185739653\n",
      "0.1620458177943527\n",
      "0.15847643947946996\n",
      "0.1587880620711815\n",
      "0.15979737090565763\n",
      "0.1583395005421407\n"
     ]
    },
    {
     "ename": "KeyboardInterrupt",
     "evalue": "",
     "output_type": "error",
     "traceback": [
      "\u001b[0;31m---------------------------------------------------------------------------\u001b[0m",
      "\u001b[0;31mKeyboardInterrupt\u001b[0m                         Traceback (most recent call last)",
      "\u001b[0;32m<ipython-input-2-df188dd6c1b4>\u001b[0m in \u001b[0;36m<module>\u001b[0;34m\u001b[0m\n\u001b[1;32m      9\u001b[0m             \u001b[0mprint\u001b[0m\u001b[0;34m(\u001b[0m\u001b[0milosc_emoji\u001b[0m\u001b[0;34m/\u001b[0m\u001b[0milosc_znakow\u001b[0m\u001b[0;34m)\u001b[0m\u001b[0;34m\u001b[0m\u001b[0;34m\u001b[0m\u001b[0m\n\u001b[1;32m     10\u001b[0m             \u001b[0mx\u001b[0m \u001b[0;34m+=\u001b[0m \u001b[0;36m1\u001b[0m\u001b[0;34m\u001b[0m\u001b[0;34m\u001b[0m\u001b[0m\n\u001b[0;32m---> 11\u001b[0;31m         \u001b[0mline\u001b[0m \u001b[0;34m=\u001b[0m \u001b[0mf\u001b[0m\u001b[0;34m.\u001b[0m\u001b[0mreadline\u001b[0m\u001b[0;34m(\u001b[0m\u001b[0;34m)\u001b[0m\u001b[0;34m\u001b[0m\u001b[0;34m\u001b[0m\u001b[0m\n\u001b[0m\u001b[1;32m     12\u001b[0m         \u001b[0mwyjscie\u001b[0m \u001b[0;34m=\u001b[0m \u001b[0mmain\u001b[0m\u001b[0;34m(\u001b[0m\u001b[0mline\u001b[0m\u001b[0;34m)\u001b[0m\u001b[0;34m\u001b[0m\u001b[0;34m\u001b[0m\u001b[0m\n\u001b[1;32m     13\u001b[0m         \u001b[0milosc_znakow\u001b[0m \u001b[0;34m+=\u001b[0m \u001b[0mwyjscie\u001b[0m\u001b[0;34m[\u001b[0m\u001b[0;36m0\u001b[0m\u001b[0;34m]\u001b[0m\u001b[0;34m\u001b[0m\u001b[0;34m\u001b[0m\u001b[0m\n",
      "\u001b[0;32m/usr/lib64/python3.10/codecs.py\u001b[0m in \u001b[0;36mdecode\u001b[0;34m(self, input, final)\u001b[0m\n\u001b[1;32m    317\u001b[0m         \u001b[0;32mraise\u001b[0m \u001b[0mNotImplementedError\u001b[0m\u001b[0;34m\u001b[0m\u001b[0;34m\u001b[0m\u001b[0m\n\u001b[1;32m    318\u001b[0m \u001b[0;34m\u001b[0m\u001b[0m\n\u001b[0;32m--> 319\u001b[0;31m     \u001b[0;32mdef\u001b[0m \u001b[0mdecode\u001b[0m\u001b[0;34m(\u001b[0m\u001b[0mself\u001b[0m\u001b[0;34m,\u001b[0m \u001b[0minput\u001b[0m\u001b[0;34m,\u001b[0m \u001b[0mfinal\u001b[0m\u001b[0;34m=\u001b[0m\u001b[0;32mFalse\u001b[0m\u001b[0;34m)\u001b[0m\u001b[0;34m:\u001b[0m\u001b[0;34m\u001b[0m\u001b[0;34m\u001b[0m\u001b[0m\n\u001b[0m\u001b[1;32m    320\u001b[0m         \u001b[0;31m# decode input (taking the buffer into account)\u001b[0m\u001b[0;34m\u001b[0m\u001b[0;34m\u001b[0m\u001b[0m\n\u001b[1;32m    321\u001b[0m         \u001b[0mdata\u001b[0m \u001b[0;34m=\u001b[0m \u001b[0mself\u001b[0m\u001b[0;34m.\u001b[0m\u001b[0mbuffer\u001b[0m \u001b[0;34m+\u001b[0m \u001b[0minput\u001b[0m\u001b[0;34m\u001b[0m\u001b[0;34m\u001b[0m\u001b[0m\n",
      "\u001b[0;31mKeyboardInterrupt\u001b[0m: "
     ]
    }
   ],
   "source": [
    "from re import match, findall\n",
    "ilosc_znakow = 0\n",
    "ilosc_emoji = 0\n",
    "x=1\n",
    "with open('data.txt','r') as f:\n",
    "    f.readline()\n",
    "    while f:\n",
    "        if ilosc_emoji >= 400 * x:\n",
    "            print(ilosc_emoji/ilosc_znakow)\n",
    "            x += 1\n",
    "        line = f.readline()\n",
    "        wyjscie = main(line)\n",
    "        ilosc_znakow += wyjscie[0]\n",
    "        ilosc_emoji += wyjscie[1]\n",
    "print(ilosc_znakow)\n",
    "print(ilosc_emoji)\n",
    "print(ilosc_znakow/ilosc_emoji)"
   ]
  }
 ],
 "metadata": {
  "interpreter": {
   "hash": "e7370f93d1d0cde622a1f8e1c04877d8463912d04d973331ad4851f04de6915a"
  },
  "kernelspec": {
   "display_name": "Python 3.10.0 64-bit",
   "name": "python3"
  },
  "language_info": {
   "codemirror_mode": {
    "name": "ipython",
    "version": 3
   },
   "file_extension": ".py",
   "mimetype": "text/x-python",
   "name": "python",
   "nbconvert_exporter": "python",
   "pygments_lexer": "ipython3",
   "version": "3.10.0"
  },
  "orig_nbformat": 4
 },
 "nbformat": 4,
 "nbformat_minor": 2
}
