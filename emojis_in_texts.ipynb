{
 "cells": [
  {
   "cell_type": "markdown",
   "metadata": {},
   "source": [
    "This program counts how big portions of your chats are emojis (tested only on whatsapp - other chat apps need few tweaks to work)"
   ]
  },
  {
   "cell_type": "code",
   "execution_count": 1,
   "metadata": {},
   "outputs": [],
   "source": [
    "def main(line, person):\n",
    "    message = line.split(':', 2)\n",
    "    if len(message) >= 2:\n",
    "        if message[1][5] == person:     # checks who's message is that (first character)\n",
    "            clean_msg = message[2].strip()\n",
    "            if clean_msg != '<Media omitted>':\n",
    "                chars = []\n",
    "                emoji = []\n",
    "                ## all characters in your texts\n",
    "                chars += findall('[AĄBCĆDEĘFGHIJKLŁMNŃOÓPQRSŚTUVWXYZŹŻ!?]', clean_msg.upper().replace(' ', ''))\n",
    "                \n",
    "                ## all emojis in your texts\n",
    "                emoji += findall('[^AĄBCĆDEĘFGHIJKLŁMNŃOÓPQRSŚTUVWXYZŹŻ!?\\ufe0f]', clean_msg.upper().replace(' ', ''))\n",
    "                return [len(chars), len(emoji)]\n",
    "        return [0, 0]\n",
    "    return [0,0]"
   ]
  },
  {
   "cell_type": "code",
   "execution_count": 2,
   "metadata": {},
   "outputs": [],
   "source": [
    "def print_results(nr_char, nr_emoji):\n",
    "    print(f'number of characters that you have used: {nr_char}')\n",
    "    print(f'number of emojis that you have used: {nr_emoji}')\n",
    "    print(f'percent of emoji in your texts: {(nr_emoji/nr_char*100).__round__()}%')"
   ]
  },
  {
   "cell_type": "code",
   "execution_count": 3,
   "metadata": {},
   "outputs": [
    {
     "name": "stdout",
     "output_type": "stream",
     "text": [
      "results for first person are:\n",
      "number of characters that you have used: 77203\n",
      "number of emojis that you have used: 12293\n",
      "percent of emoji in your texts: 16%\n",
      "\n",
      "results for second person are:\n",
      "number of characters that you have used: 40065\n",
      "number of emojis that you have used: 8566\n",
      "percent of emoji in your texts: 21%\n"
     ]
    }
   ],
   "source": [
    "from re import match, findall\n",
    "nr_char1 = nr_char2 = 0      # how many times charactes were used in texts\n",
    "nr_emoji1 = nr_emoji2 = 0    # how many times emojis were used in texts\n",
    "\n",
    "# fist characters of person's names\n",
    "person='P'\n",
    "person2='K'\n",
    "\n",
    "# remeber to name your file data.txt\n",
    "with open('data.txt','r') as f:\n",
    "    f.readline()\n",
    "    for line in f:\n",
    "        line = f.readline()\n",
    "        # first person\n",
    "        results1 = main(line, person)\n",
    "        nr_char1 += results1[0]\n",
    "        nr_emoji1 += results1[1]\n",
    "        # second person\n",
    "        results2 = main(line, person2)\n",
    "        nr_char2 += results2[0]\n",
    "        nr_emoji2 += results2[1]\n",
    "\n",
    "print(\"results for first person are:\")\n",
    "print_results(nr_char1, nr_emoji1)\n",
    "\n",
    "print(\"\\nresults for second person are:\")\n",
    "print_results(nr_char2, nr_emoji2)"
   ]
  }
 ],
 "metadata": {
  "interpreter": {
   "hash": "e7370f93d1d0cde622a1f8e1c04877d8463912d04d973331ad4851f04de6915a"
  },
  "kernelspec": {
   "display_name": "Python 3.10.0 64-bit",
   "name": "python3"
  },
  "language_info": {
   "codemirror_mode": {
    "name": "ipython",
    "version": 3
   },
   "file_extension": ".py",
   "mimetype": "text/x-python",
   "name": "python",
   "nbconvert_exporter": "python",
   "pygments_lexer": "ipython3",
   "version": "3.10.0"
  },
  "orig_nbformat": 4
 },
 "nbformat": 4,
 "nbformat_minor": 2
}
