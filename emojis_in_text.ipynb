{
 "cells": [
  {
   "cell_type": "markdown",
   "metadata": {},
   "source": [
    "This program counts how big portions of your chats are emojis (tested only on whatsapp - other chat apps need few tweaks to work)"
   ]
  },
  {
   "cell_type": "code",
   "execution_count": 1,
   "metadata": {},
   "outputs": [],
   "source": [
    "def main(line):\n",
    "    message = line.split(':', 2)\n",
    "    if len(message) >= 2:\n",
    "        if message[1][5] == 'P': ## change it to the first character of person's name\n",
    "            clean_msg = message[2].strip()\n",
    "            if clean_msg != '<Media omitted>':\n",
    "                znaki = []\n",
    "                emoji = []\n",
    "                ## all characters in your texts\n",
    "                znaki += findall('[AĄBCĆDEĘFGHIJKLŁMNŃOÓPQRSŚTUVWXYZŹŻ]', clean_msg.upper().replace(' ', ''))\n",
    "                \n",
    "                ## all emojis in your texts\n",
    "                emoji += findall('[^AĄBCĆDEĘFGHIJKLŁMNŃOÓPQRSŚTUVWXYZŹŻ\\ufe0f]', clean_msg.upper().replace(' ', ''))\n",
    "                return [len(znaki), len(emoji)]\n",
    "        return [0, 0]\n",
    "    return [0,0]\n",
    "            "
   ]
  },
  {
   "cell_type": "code",
   "execution_count": 2,
   "metadata": {},
   "outputs": [
    {
     "name": "stdout",
     "output_type": "stream",
     "text": [
      "number of characters that you have used: 40461\n",
      "number of emojis that you have used: 7245\n",
      "percent of emoji in your texts: 18%\n"
     ]
    }
   ],
   "source": [
    "from re import match, findall\n",
    "ilosc_znakow = 0\n",
    "ilosc_emoji = 0\n",
    "x=1\n",
    "with open('data.txt','r') as f:\n",
    "    f.readline()\n",
    "    for line in f:\n",
    "        line = f.readline()\n",
    "        wyjscie = main(line)\n",
    "        ilosc_znakow += wyjscie[0]\n",
    "        ilosc_emoji += wyjscie[1]\n",
    "print(f'number of characters that you have used: {ilosc_znakow}')\n",
    "print(f'number of emojis that you have used: {ilosc_emoji}')\n",
    "print(f'percent of emoji in your texts: {(ilosc_emoji/ilosc_znakow * 100).__round__()}%')"
   ]
  }
 ],
 "metadata": {
  "interpreter": {
   "hash": "e7370f93d1d0cde622a1f8e1c04877d8463912d04d973331ad4851f04de6915a"
  },
  "kernelspec": {
   "display_name": "Python 3.10.0 64-bit",
   "name": "python3"
  },
  "language_info": {
   "codemirror_mode": {
    "name": "ipython",
    "version": 3
   },
   "file_extension": ".py",
   "mimetype": "text/x-python",
   "name": "python",
   "nbconvert_exporter": "python",
   "pygments_lexer": "ipython3",
   "version": "3.10.0"
  },
  "orig_nbformat": 4
 },
 "nbformat": 4,
 "nbformat_minor": 2
}
